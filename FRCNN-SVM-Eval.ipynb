{
 "cells": [
  {
   "cell_type": "code",
   "execution_count": 1,
   "metadata": {},
   "outputs": [
    {
     "name": "stderr",
     "output_type": "stream",
     "text": [
      "** fvcore version of PathManager will be deprecated soon. **\n",
      "** Please migrate to the version in iopath repo. **\n",
      "https://github.com/facebookresearch/iopath \n",
      "\n",
      "** fvcore version of PathManager will be deprecated soon. **\n",
      "** Please migrate to the version in iopath repo. **\n",
      "https://github.com/facebookresearch/iopath \n",
      "\n"
     ]
    }
   ],
   "source": [
    "%matplotlib inline\n",
    "\n",
    "from detectron2.config import get_cfg\n",
    "from detectron2.modeling import build_model\n",
    "from detectron2.checkpoint import DetectionCheckpointer\n",
    "from detectron2.data import MetadataCatalog, DatasetCatalog\n",
    "import detectron2.data.transforms as T\n",
    "from detectron2.structures.image_list import ImageList\n",
    "from detectron2.utils.visualizer import ColorMode, Visualizer\n",
    "from detectron2.modeling.box_regression import Box2BoxTransform\n",
    "from detectron2.data.datasets import register_coco_instances\n",
    "from detectron2.data import DatasetMapper\n",
    "from detectron2.data import (\n",
    "    build_detection_test_loader,\n",
    "    build_detection_train_loader,\n",
    ")\n",
    "from detectron2.data.samplers import TrainingSampler\n",
    "from detectron2.modeling.proposal_generator.proposal_utils import add_ground_truth_to_proposals\n",
    "from detectron2.modeling.sampling import subsample_labels\n",
    "from detectron2.structures import Boxes, Instances, pairwise_iou\n",
    "from detectron2.modeling.matcher import Matcher\n",
    "from detectron2.modeling.postprocessing import detector_postprocess\n",
    "from detectron2.utils.visualizer import Visualizer\n",
    "\n",
    "from fsdet.modeling.roi_heads.fast_rcnn import FastRCNNOutputs\n",
    "from fsdet.evaluation import (\n",
    "    COCOEvaluator, DatasetEvaluators, LVISEvaluator, PascalVOCDetectionEvaluator, verify_results)\n",
    "from fsdet.evaluation import (\n",
    "    DatasetEvaluator,\n",
    "    inference_on_dataset,\n",
    "    print_csv_format,\n",
    "    verify_results,\n",
    ")\n",
    "import cv2\n",
    "import torch, torchvision\n",
    "import logging\n",
    "import os\n",
    "from sklearn import svm\n",
    "from joblib import dump, load\n",
    "from detectron2.layers import nonzero_tuple\n",
    "import numpy as np\n",
    "\n",
    "logging.basicConfig(level=logging.INFO)"
   ]
  },
  {
   "cell_type": "markdown",
   "metadata": {},
   "source": [
    "# Load pretrained detection model and Prediect directly"
   ]
  },
  {
   "cell_type": "markdown",
   "metadata": {},
   "source": [
    "## Load models of DNN and SVM"
   ]
  },
  {
   "cell_type": "code",
   "execution_count": 2,
   "metadata": {},
   "outputs": [
    {
     "name": "stderr",
     "output_type": "stream",
     "text": [
      "INFO:fvcore.common.checkpoint:Loading checkpoint from checkpoints/coco/faster_rcnn/30shot_person_unfreeze_whole/model_0015999.pth\n"
     ]
    }
   ],
   "source": [
    "cfg = get_cfg()\n",
    "cfg.merge_from_file('configs/test_unfreeze_lastfews.yaml')\n",
    "model = build_model(cfg)  # returns a torch.nn.Module\n",
    "\n",
    "model.eval()\n",
    "metadata = MetadataCatalog.get(cfg.DATASETS.TEST[0])\n",
    "\n",
    "# ckpt_file = 'checkpoints/coco/base_model/model_final.pth'\n",
    "# ckpt_file = 'checkpoints/coco/faster_rcnn/30shot_person_freeze_last_cos/model_final.pth'\n",
    "# ckpt_file = 'checkpoints/coco/faster_rcnn/30shot_person_freeze_last_fc/model_final.pth'\n",
    "# ckpt_file = 'checkpoints/coco/faster_rcnn/30shot_person_unfreeze_lastfews/model_final.pth'\n",
    "ckpt_file = 'checkpoints/coco/faster_rcnn/30shot_person_unfreeze_whole/model_0015999.pth'\n",
    "# ckpt_file = 'checkpoints/coco/faster_rcnn/30shot_airplane_unfreeze_whole/model_0029999.pth'\n",
    "DetectionCheckpointer(model).load(ckpt_file)\n",
    "\n",
    "# clf = load('svm_results/svm_model_finetuned_prop_base.joblib') \n",
    "# clf = load('svm_results/svm_model_finetuned_prop_lastfew.joblib') \n",
    "# clf = load('svm_results/svm_model_finetuned_prop_whole.joblib') \n",
    "run_rcnn = False\n",
    "ft_extractor_type = ckpt_file.split('/')[-2]\n",
    "shots_num = 100\n",
    "class_name = 'person'\n",
    "file_name = 'svm_{}_{}_{}.joblib'.format(ft_extractor_type, shots_num, class_name)\n",
    "clf = load('svm_results_0216/'+ file_name)\n"
   ]
  },
  {
   "cell_type": "code",
   "execution_count": 3,
   "metadata": {},
   "outputs": [],
   "source": [
    "# define some functions for preprocessing\n",
    "assert len(cfg.MODEL.PIXEL_MEAN) == len(cfg.MODEL.PIXEL_STD)\n",
    "num_channels = len(cfg.MODEL.PIXEL_MEAN)\n",
    "device = 'cuda'\n",
    "pixel_mean = (\n",
    "    torch.Tensor(cfg.MODEL.PIXEL_MEAN)\n",
    "    .to(device)\n",
    "    .view(num_channels, 1, 1)\n",
    ")\n",
    "pixel_std = (\n",
    "    torch.Tensor(cfg.MODEL.PIXEL_STD)\n",
    "    .to(device)\n",
    "    .view(num_channels, 1, 1)\n",
    ")\n",
    "normalizer = lambda x: (x - pixel_mean) / pixel_std"
   ]
  },
  {
   "cell_type": "markdown",
   "metadata": {},
   "source": [
    "## Register dataset"
   ]
  },
  {
   "cell_type": "code",
   "execution_count": 4,
   "metadata": {},
   "outputs": [],
   "source": [
    "from detectron2.data.datasets import register_coco_instances\n",
    "json_dir = 'datasets/coco_experiments/seed1/full_box_30shot_person_trainval.json'\n",
    "image_dir = 'datasets/coco/trainval2014'\n",
    "register_coco_instances(\"30shot_person_train\", {}, json_dir, image_dir)\n",
    "\n",
    "json_dir = 'datasets/coco_experiments/seed1/full_box_{}shot_{}_test.json'.format(1000, class_name)\n",
    "image_dir = 'datasets/coco/trainval2014'\n",
    "testset_name = \"{}_test\".format(class_name)\n",
    "register_coco_instances(testset_name, {}, json_dir, image_dir)\n",
    "\n",
    "# json_dir = 'datasets/cocosplit/datasplit/5k.json'\n",
    "# image_dir = 'datasets/coco/trainval2014'\n",
    "# register_coco_instances(\"5k_test\", {}, json_dir, image_dir)\n",
    "\n",
    "# testset_name = \"5k_test\""
   ]
  },
  {
   "cell_type": "markdown",
   "metadata": {},
   "source": [
    "## Difference between some dataloader"
   ]
  },
  {
   "cell_type": "code",
   "execution_count": 5,
   "metadata": {},
   "outputs": [],
   "source": [
    "# data_loader_train = build_detection_train_loader(cfg)\n",
    "# data_loader_train_it = iter(data_loader_train)\n",
    "# data = next(data_loader_train_it)\n",
    "# print(len(data))\n",
    "# print(data[0]['image'].shape)\n",
    "# print(data)"
   ]
  },
  {
   "cell_type": "code",
   "execution_count": 6,
   "metadata": {},
   "outputs": [
    {
     "name": "stderr",
     "output_type": "stream",
     "text": [
      "INFO:detectron2.data.datasets.coco:Loaded 239 images in COCO format from datasets/coco_experiments/seed1/full_box_1000shot_person_test.json\n",
      "INFO:detectron2.data.build:Distribution of instances among all 1 categories:\n",
      "\u001b[36m|  category  | #instances   |\n",
      "|:----------:|:-------------|\n",
      "|   person   | 1000         |\n",
      "|            |              |\u001b[0m\n",
      "INFO:detectron2.data.dataset_mapper:[DatasetMapper] Augmentations used in inference: [ResizeShortestEdge(short_edge_length=(800, 800), max_size=1333, sample_style='choice')]\n",
      "INFO:detectron2.data.common:Serializing 239 elements to byte tensors and concatenating them all ...\n",
      "INFO:detectron2.data.common:Serialized dataset takes 0.67 MiB\n"
     ]
    }
   ],
   "source": [
    "# data_loader_test = build_detection_test_loader(cfg, \"1000shot_person_test\")\n",
    "# data_loader_test_it = iter(data_loader_test)\n",
    "data_loader_test = build_detection_test_loader(cfg, testset_name)\n",
    "data_loader_test_it = iter(data_loader_test)"
   ]
  },
  {
   "cell_type": "code",
   "execution_count": 7,
   "metadata": {},
   "outputs": [
    {
     "name": "stdout",
     "output_type": "stream",
     "text": [
      "1\n",
      "torch.Size([3, 800, 1166])\n",
      "239\n"
     ]
    }
   ],
   "source": [
    "data = next(data_loader_test_it)\n",
    "print(len(data))\n",
    "print(data[0]['image'].shape)\n",
    "print(len(data_loader_test))"
   ]
  },
  {
   "cell_type": "code",
   "execution_count": 8,
   "metadata": {},
   "outputs": [],
   "source": [
    "# transform_gen = T.ResizeShortestEdge(\n",
    "#             [cfg.INPUT.MIN_SIZE_TEST, cfg.INPUT.MIN_SIZE_TEST],\n",
    "#             cfg.INPUT.MAX_SIZE_TEST,\n",
    "#             )\n",
    "# print([cfg.INPUT.MIN_SIZE_TEST, cfg.INPUT.MIN_SIZE_TEST],\n",
    "#             cfg.INPUT.MAX_SIZE_TEST)\n",
    "# data_loader = build_detection_train_loader(DatasetCatalog.get(\"1000shot_person_test\"),\n",
    "#                                            mapper=DatasetMapper(cfg, is_train=False, augmentations=[transform_gen]),\n",
    "#                                            total_batch_size = 10)\n",
    "# data_loader_it = iter(data_loader)\n",
    "# data = next(data_loader_it)\n",
    "# print(len(data))\n",
    "# print(data[0]['image'].shape)\n",
    "# print(data)\n",
    "\n",
    "## the type of dataloader is different 'AspectRatio Grouped Dataset' (don't know the reason) "
   ]
  },
  {
   "cell_type": "code",
   "execution_count": 9,
   "metadata": {},
   "outputs": [],
   "source": [
    "# run one iter\n",
    "# evaluator = COCOEvaluator(\"1000shot_person_test\", cfg, True, output_dir = cfg.OUTPUT_DIR)\n",
    "# with torch.no_grad():\n",
    "#     inputs = data\n",
    "#     outputs = model(inputs)\n",
    "#     evaluator.reset()\n",
    "#     evaluator.process(inputs, outputs)\n",
    "#     results = evaluator.evaluate()\n"
   ]
  },
  {
   "cell_type": "code",
   "execution_count": 10,
   "metadata": {},
   "outputs": [],
   "source": [
    "# default test \n",
    "# run_rcnn = True\n",
    "if run_rcnn:\n",
    "    evaluator = COCOEvaluator(testset_name, cfg, True, output_dir = cfg.OUTPUT_DIR)\n",
    "    evaluator.reset()\n",
    "    inference_on_dataset(model, data_loader_test, evaluator)"
   ]
  },
  {
   "cell_type": "markdown",
   "metadata": {},
   "source": [
    "# Run detector step by step (should have same results)"
   ]
  },
  {
   "cell_type": "code",
   "execution_count": 11,
   "metadata": {},
   "outputs": [],
   "source": [
    "if run_rcnn:\n",
    "    evaluator = COCOEvaluator(testset_name, cfg, True, output_dir = cfg.OUTPUT_DIR)\n",
    "    evaluator.reset()\n",
    "\n",
    "    training = False\n",
    "    save_results = False\n",
    "    box2box_transform = Box2BoxTransform(\n",
    "                weights=cfg.MODEL.ROI_BOX_HEAD.BBOX_REG_WEIGHTS\n",
    "            )\n",
    "    smooth_l1_beta = cfg.MODEL.ROI_BOX_HEAD.SMOOTH_L1_BETA\n",
    "    # test_score_thresh        = cfg.MODEL.ROI_HEADS.SCORE_THRESH_TEST\n",
    "    test_score_thresh        = 0.5\n",
    "    test_nms_thresh          = cfg.MODEL.ROI_HEADS.NMS_THRESH_TEST\n",
    "    test_detections_per_img  = cfg.TEST.DETECTIONS_PER_IMAGE\n",
    "\n",
    "\n",
    "    with torch.no_grad():\n",
    "        for idx, inputs in enumerate(data_loader_test):\n",
    "            #     batched_inputs = data\n",
    "            batched_inputs = inputs\n",
    "            ###################################    \n",
    "            #     outputs = model(inputs)     #\n",
    "            #---------------------------------# \n",
    "\n",
    "            # Normalize, pad and batch the input images. (Preprocess_image)\n",
    "            images = [x[\"image\"].to('cuda') for x in batched_inputs]\n",
    "            images = [normalizer(x) for x in images]\n",
    "            images = ImageList.from_tensors(\n",
    "                images, model.backbone.size_divisibility\n",
    "            )\n",
    "\n",
    "            # forward\n",
    "            features = model.backbone(images.tensor)\n",
    "    #         print('features shape:', features['p3'].shape)\n",
    "            proposals, _ = model.proposal_generator(images, features)\n",
    "    #         print('proposal num per img:', proposals_list[0].objectness_logits.shape)\n",
    "\n",
    "\n",
    "            #     results, _ = model.roi_heads(images, features, proposals)\n",
    "            #     print('\\ninstance for image 0:', results[0], '\\n')\n",
    "\n",
    "            # run roi_heads step by step\n",
    "            if training:\n",
    "            #         proposals = [proposal for proposal in proposals]\n",
    "                targets = [d['instances'].to('cuda') for d in data]\n",
    "                proposals = model.roi_heads.label_and_sample_proposals(proposals, targets)\n",
    "\n",
    "            box_features = model.roi_heads.box_pooler(\n",
    "                [features[f] for f in [\"p2\", \"p3\", \"p4\", \"p5\"]], [x.proposal_boxes for x in proposals]\n",
    "            )\n",
    "    #         print(box_features.shape)\n",
    "            box_features = model.roi_heads.box_head(box_features)\n",
    "    #         print(box_features.shape)\n",
    "\n",
    "            pred_class_logits, pred_proposal_deltas = model.roi_heads.box_predictor(\n",
    "                box_features\n",
    "            )\n",
    "    #         print('pred_class_logits', pred_class_logits[:3])\n",
    "    #         print('pred_proposal_deltas', pred_proposal_deltas.shape)\n",
    "\n",
    "            outputs = FastRCNNOutputs(\n",
    "                box2box_transform,\n",
    "                pred_class_logits,\n",
    "                pred_proposal_deltas,\n",
    "                proposals,\n",
    "                smooth_l1_beta,\n",
    "            )\n",
    "\n",
    "            results, _ = outputs.inference(\n",
    "                    test_score_thresh,\n",
    "                    test_nms_thresh,\n",
    "                    test_detections_per_img,\n",
    "            )\n",
    "\n",
    "            # postprocess: resize images\n",
    "            processed_results = []\n",
    "            for results_per_image, input_per_image, image_size in zip(\n",
    "                results, batched_inputs, images.image_sizes\n",
    "            ):\n",
    "                height = input_per_image.get(\"height\", image_size[0])\n",
    "                width = input_per_image.get(\"width\", image_size[1])\n",
    "                r = detector_postprocess(results_per_image, height, width)\n",
    "                processed_results.append({\"instances\": r})\n",
    "    #         print('postprocessed instance for image 0:\\n', processed_results[0], '\\n')\n",
    "    ###################################  \n",
    "\n",
    "            # evaluate\n",
    "            evaluator.process(inputs, processed_results)\n",
    "            save_results = True\n",
    "            if save_results:\n",
    "                # visualizer\n",
    "                # inputs should be only one image\n",
    "                raw_image = cv2.imread(batched_inputs[0]['file_name'])\n",
    "                result_show = processed_results[0][\"instances\"]\n",
    "                v = Visualizer(raw_image,\n",
    "                                metadata=MetadataCatalog.get(testset_name), \n",
    "                                scale=1.0, \n",
    "                                instance_mode=ColorMode.IMAGE   # remove the colors of unsegmented pixels\n",
    "                    )\n",
    "                v = v.draw_instance_predictions(result_show.to(\"cpu\"))\n",
    "\n",
    "                folder_name = './test_0216/det_last_fc_0.5/'\n",
    "                os.makedirs(folder_name, exist_ok=True)\n",
    "                det_img_dir = folder_name + str(idx) + '.jpg'\n",
    "                cv2.imwrite(det_img_dir, v.get_image())\n",
    "        eval_results = evaluator.evaluate()"
   ]
  },
  {
   "cell_type": "markdown",
   "metadata": {},
   "source": [
    "# Add SVM classifier as the final layer"
   ]
  },
  {
   "cell_type": "code",
   "execution_count": 12,
   "metadata": {},
   "outputs": [
    {
     "name": "stdout",
     "output_type": "stream",
     "text": [
      "0.5 0.5 100\n"
     ]
    },
    {
     "name": "stderr",
     "output_type": "stream",
     "text": [
      "/home/cloudlet/work/few-shot-object-detection/fsdet/modeling/roi_heads/fast_rcnn.py:115: UserWarning: This overload of nonzero is deprecated:\n",
      "\tnonzero()\n",
      "Consider using one of the following signatures instead:\n",
      "\tnonzero(*, bool as_tuple) (Triggered internally at  /opt/conda/conda-bld/pytorch_1607370116979/work/torch/csrc/utils/python_arg_parser.cpp:882.)\n",
      "  filter_inds = filter_mask.nonzero()\n",
      "INFO:fsdet.evaluation.coco_evaluation:Preparing results for COCO format ...\n",
      "INFO:fsdet.evaluation.coco_evaluation:Saving results to checkpoints/coco/faster_rcnn/test_0215/coco_instances_results.json\n",
      "INFO:fsdet.evaluation.coco_evaluation:Evaluating predictions ...\n"
     ]
    },
    {
     "name": "stdout",
     "output_type": "stream",
     "text": [
      "Loading and preparing results...\n",
      "DONE (t=0.00s)\n",
      "creating index...\n",
      "index created!\n",
      "Running per image evaluation...\n",
      "Evaluate annotation type *bbox*\n"
     ]
    },
    {
     "name": "stderr",
     "output_type": "stream",
     "text": [
      "INFO:fsdet.evaluation.coco_evaluation:Evaluation results for bbox: \n",
      "|   AP   |  AP50  |  AP75  |  APs   |  APm   |  APl   |\n",
      "|:------:|:------:|:------:|:------:|:------:|:------:|\n",
      "| 18.337 | 42.884 | 12.980 | 10.582 | 23.060 | 30.587 |\n"
     ]
    },
    {
     "name": "stdout",
     "output_type": "stream",
     "text": [
      "DONE (t=0.59s).\n",
      "Accumulating evaluation results...\n",
      "DONE (t=0.04s).\n",
      " Average Precision  (AP) @[ IoU=0.50:0.95 | area=   all | maxDets=100 ] = 0.183\n",
      " Average Precision  (AP) @[ IoU=0.50      | area=   all | maxDets=100 ] = 0.429\n",
      " Average Precision  (AP) @[ IoU=0.75      | area=   all | maxDets=100 ] = 0.130\n",
      " Average Precision  (AP) @[ IoU=0.50:0.95 | area= small | maxDets=100 ] = 0.106\n",
      " Average Precision  (AP) @[ IoU=0.50:0.95 | area=medium | maxDets=100 ] = 0.231\n",
      " Average Precision  (AP) @[ IoU=0.50:0.95 | area= large | maxDets=100 ] = 0.306\n",
      " Average Recall     (AR) @[ IoU=0.50:0.95 | area=   all | maxDets=  1 ] = 0.106\n",
      " Average Recall     (AR) @[ IoU=0.50:0.95 | area=   all | maxDets= 10 ] = 0.268\n",
      " Average Recall     (AR) @[ IoU=0.50:0.95 | area=   all | maxDets=100 ] = 0.303\n",
      " Average Recall     (AR) @[ IoU=0.50:0.95 | area= small | maxDets=100 ] = 0.170\n",
      " Average Recall     (AR) @[ IoU=0.50:0.95 | area=medium | maxDets=100 ] = 0.329\n",
      " Average Recall     (AR) @[ IoU=0.50:0.95 | area= large | maxDets=100 ] = 0.491\n",
      "Now trying to plot PR curve\n"
     ]
    },
    {
     "data": {
      "image/png": "[encoded data removed]",
      "text/plain": [
       "<Figure size 432x288 with 1 Axes>"
      ]
     },
     "metadata": {
      "needs_background": "light"
     },
     "output_type": "display_data"
    }
   ],
   "source": [
    "evaluator = COCOEvaluator(testset_name, cfg, True, output_dir = cfg.OUTPUT_DIR)\n",
    "evaluator.reset()\n",
    "training = False\n",
    "box2box_transform = Box2BoxTransform(\n",
    "            weights=cfg.MODEL.ROI_BOX_HEAD.BBOX_REG_WEIGHTS\n",
    "        )\n",
    "smooth_l1_beta = cfg.MODEL.ROI_BOX_HEAD.SMOOTH_L1_BETA\n",
    "# test_score_thresh        = cfg.MODEL.ROI_HEADS.SCORE_THRESH_TEST\n",
    "test_score_thresh        = 0.5\n",
    "test_nms_thresh          = cfg.MODEL.ROI_HEADS.NMS_THRESH_TEST\n",
    "test_detections_per_img  = cfg.TEST.DETECTIONS_PER_IMAGE\n",
    "print(test_score_thresh, test_nms_thresh, test_detections_per_img)\n",
    "\n",
    "with torch.no_grad():\n",
    "    for idx, inputs in enumerate(data_loader_test):\n",
    "        #     batched_inputs = data\n",
    "        batched_inputs = inputs\n",
    "    ###################################    \n",
    "    #     outputs = model(inputs)     #\n",
    "    #---------------------------------# \n",
    "\n",
    "        # Normalize, pad and batch the input images. (Preprocess_image)\n",
    "        images = [x[\"image\"].to('cuda') for x in batched_inputs]\n",
    "        images = [normalizer(x) for x in images]\n",
    "        images = ImageList.from_tensors(\n",
    "            images, model.backbone.size_divisibility\n",
    "        )\n",
    "\n",
    "        # forward\n",
    "        features = model.backbone(images.tensor)\n",
    "#         print('features shape:', features['p3'].shape)\n",
    "        proposals, _ = model.proposal_generator(images, features)\n",
    "#         print('proposal num per img:', proposals[0].objectness_logits.shape) # 1000 proposals\n",
    "\n",
    "\n",
    "    #     results, _ = model.roi_heads(images, features, proposals)\n",
    "    #     print('\\ninstance for image 0:', results[0], '\\n')\n",
    "\n",
    "        # run roi_heads step by step\n",
    "        if training:\n",
    "    #         proposals = [proposal for proposal in proposals]\n",
    "            targets = [x['instances'].to('cuda') for x in batched_inputs]\n",
    "            proposals = model.roi_heads.label_and_sample_proposals(proposals, targets)\n",
    "\n",
    "        box_features = model.roi_heads.box_pooler(\n",
    "            [features[f] for f in [\"p2\", \"p3\", \"p4\", \"p5\"]], [x.proposal_boxes for x in proposals]\n",
    "        )\n",
    "#         print(box_features.shape)\n",
    "        box_features = model.roi_heads.box_head(box_features)\n",
    "#         print(box_features.shape)\n",
    "\n",
    "        pred_class_logits, pred_proposal_deltas = model.roi_heads.box_predictor(\n",
    "            box_features\n",
    "        )\n",
    "#         print('pred_class_logits', pred_class_logits[:3])\n",
    "#         print('pred_proposal_deltas', pred_proposal_deltas.shape)\n",
    "\n",
    "        outputs = FastRCNNOutputs(\n",
    "            box2box_transform,\n",
    "            pred_class_logits,\n",
    "            pred_proposal_deltas,\n",
    "            proposals,\n",
    "            smooth_l1_beta,\n",
    "        )\n",
    "\n",
    "        results, _ = outputs.inference(\n",
    "                test_score_thresh,\n",
    "                test_nms_thresh,\n",
    "                test_detections_per_img,\n",
    "        )\n",
    "\n",
    "        # postprocess: resize images\n",
    "        processed_results = []\n",
    "        for results_per_image, input_per_image, image_size in zip(\n",
    "            results, batched_inputs, images.image_sizes\n",
    "        ):\n",
    "            height = input_per_image.get(\"height\", image_size[0])\n",
    "            width = input_per_image.get(\"width\", image_size[1])\n",
    "            r = detector_postprocess(results_per_image, height, width)\n",
    "            processed_results.append({\"instances\": r})\n",
    "#         print('postprocessed instance for image 0:\\n', processed_results[0], '\\n')\n",
    "\n",
    "        # SVM \n",
    "        X = box_features.to('cpu').detach().numpy()\n",
    "#         y_hat = clf.predict(X)\n",
    "        pred_class_logits_svm = clf.predict_log_proba(X)\n",
    "#         pred_class_logits_svm = np.zeros((pred_class_logits.shape))\n",
    "#         for i in range(y_hat.shape[0]):\n",
    "#             # if y_hat=1, background; if y_hat=0, person\n",
    "#             pred_class_logits_svm[i][0] = 1 - y_hat[i]\n",
    "#             pred_class_logits_svm[i][-1] = y_hat[i]\n",
    "        pred_class_logits_svm = torch.from_numpy(pred_class_logits_svm).to('cuda')\n",
    "#         print(y_hat.shape)\n",
    "#         print(pred_class_logits_svm[:3])\n",
    "\n",
    "        outputs_svm = FastRCNNOutputs(\n",
    "            box2box_transform,\n",
    "            pred_class_logits_svm,\n",
    "            pred_proposal_deltas,\n",
    "            proposals,\n",
    "            smooth_l1_beta,\n",
    "        )\n",
    "\n",
    "        pred_instances_svm, _ = outputs_svm.inference(\n",
    "                test_score_thresh,\n",
    "                test_nms_thresh,\n",
    "                test_detections_per_img,\n",
    "        )\n",
    "\n",
    "        processed_results_svm = []\n",
    "        for results_per_image, input_per_image, image_size in zip(\n",
    "            pred_instances_svm, batched_inputs, images.image_sizes\n",
    "        ):\n",
    "            height = input_per_image.get(\"height\", image_size[0])\n",
    "            width = input_per_image.get(\"width\", image_size[1])\n",
    "            r = detector_postprocess(results_per_image, height, width)\n",
    "            processed_results_svm.append({\"instances\": r})\n",
    "#         print('\\n\\nSVM postprocessed instance for image 0:\\n', processed_results_svm[0], '\\n')  \n",
    "    \n",
    "###################################  \n",
    "        # evaluate\n",
    "        evaluator.process(inputs, processed_results_svm)\n",
    "        save_results = False\n",
    "        if save_results:\n",
    "            # visualizer\n",
    "            # inputs should be only one image\n",
    "            raw_image = cv2.imread(batched_inputs[0]['file_name'])\n",
    "            result_show = processed_results_svm[0][\"instances\"]\n",
    "            v = Visualizer(raw_image,\n",
    "                            metadata=MetadataCatalog.get(\"1000shot_person_test\"), \n",
    "                            scale=1.0, \n",
    "                            instance_mode=ColorMode.IMAGE   # remove the colors of unsegmented pixels\n",
    "                )\n",
    "            v = v.draw_instance_predictions(result_show.to(\"cpu\"))\n",
    "        \n",
    "#             det_img_folder = time.strftime(\"%d_%H_%M/\")\n",
    "            folder_name = './test_0216/svm_{}_{}_{}_{}/'.format(ft_extractor_type, shots_num, class_name, test_score_thresh)\n",
    "            os.makedirs(folder_name, exist_ok=True)\n",
    "            det_img_dir = folder_name + str(idx) + '.jpg'\n",
    "            cv2.imwrite(det_img_dir, v.get_image())\n",
    "    results = evaluator.evaluate()"
   ]
  },
  {
   "cell_type": "code",
   "execution_count": null,
   "metadata": {},
   "outputs": [],
   "source": []
  }
 ],
 "metadata": {
  "kernelspec": {
   "display_name": "fsdet",
   "language": "python",
   "name": "fsdet"
  },
  "language_info": {
   "codemirror_mode": {
    "name": "ipython",
    "version": 3
   },
   "file_extension": ".py",
   "mimetype": "text/x-python",
   "name": "python",
   "nbconvert_exporter": "python",
   "pygments_lexer": "ipython3",
   "version": "3.6.12"
  }
 },
 "nbformat": 4,
 "nbformat_minor": 2
}
